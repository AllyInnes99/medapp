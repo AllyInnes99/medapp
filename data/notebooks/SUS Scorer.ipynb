{
 "cells": [
  {
   "cell_type": "code",
   "execution_count": 1,
   "metadata": {},
   "outputs": [],
   "source": [
    "# function that calculates the SUS score from the responses from one participant\n",
    "def susscore(responses):\n",
    "    \n",
    "    score = 0\n",
    "    \n",
    "    for i in range(len(responses)):\n",
    "        \n",
    "        # for odd-numbered questions, subtract one from response and add to total\n",
    "        if(i % 2 != 0):\n",
    "            score += responses[i] - 1\n",
    "            \n",
    "        # for even-numbered questions, subtract response from 5 and add to total\n",
    "        else:\n",
    "            score += 5 - responses[i] \n",
    "    \n",
    "    # multiply score by 2.5 to normalise scale from 0-100 instead of 0-40\n",
    "    return score * 2.5\n"
   ]
  },
  {
   "cell_type": "code",
   "execution_count": 3,
   "metadata": {},
   "outputs": [
    {
     "name": "stdout",
     "output_type": "stream",
     "text": [
      "91.94444444444444\n"
     ]
    }
   ],
   "source": [
    "import pandas as pd\n",
    "\n",
    "\n",
    "df = pd.read_csv(\"results.csv\")\n",
    "total = 0\n",
    "\n",
    "scores = []\n",
    "for index, row in df.iterrows():\n",
    "    score = susscore(row.values.tolist())\n",
    "    scores.append(score)\n",
    "\n",
    "df[\"SUS Score\"] = scores\n",
    "#display(df)\n",
    "\n",
    "print(df[\"SUS Score\"].mean())\n",
    "\n",
    "\n"
   ]
  },
  {
   "cell_type": "code",
   "execution_count": null,
   "metadata": {},
   "outputs": [],
   "source": []
  }
 ],
 "metadata": {
  "kernelspec": {
   "display_name": "Python 3",
   "language": "python",
   "name": "python3"
  },
  "language_info": {
   "codemirror_mode": {
    "name": "ipython",
    "version": 3
   },
   "file_extension": ".py",
   "mimetype": "text/x-python",
   "name": "python",
   "nbconvert_exporter": "python",
   "pygments_lexer": "ipython3",
   "version": "3.7.6"
  }
 },
 "nbformat": 4,
 "nbformat_minor": 4
}
